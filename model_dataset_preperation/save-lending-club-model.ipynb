{
 "cells": [
  {
   "cell_type": "code",
   "execution_count": 1,
   "metadata": {},
   "outputs": [],
   "source": [
    "import pandas as pd"
   ]
  },
  {
   "cell_type": "markdown",
   "metadata": {},
   "source": [
    "Data from Kaggel lendnig club loan data:<br>\n",
    "https://www.kaggle.com/wendykan/lending-club-loan-data#"
   ]
  },
  {
   "cell_type": "code",
   "execution_count": 2,
   "metadata": {},
   "outputs": [],
   "source": [
    "loan_data = pd.read_csv('loan.csv', low_memory=False)"
   ]
  },
  {
   "cell_type": "code",
   "execution_count": 3,
   "metadata": {},
   "outputs": [
    {
     "data": {
      "text/html": [
       "<div>\n",
       "<style scoped>\n",
       "    .dataframe tbody tr th:only-of-type {\n",
       "        vertical-align: middle;\n",
       "    }\n",
       "\n",
       "    .dataframe tbody tr th {\n",
       "        vertical-align: top;\n",
       "    }\n",
       "\n",
       "    .dataframe thead th {\n",
       "        text-align: right;\n",
       "    }\n",
       "</style>\n",
       "<table border=\"1\" class=\"dataframe\">\n",
       "  <thead>\n",
       "    <tr style=\"text-align: right;\">\n",
       "      <th></th>\n",
       "      <th>id</th>\n",
       "      <th>member_id</th>\n",
       "      <th>loan_amnt</th>\n",
       "      <th>funded_amnt</th>\n",
       "      <th>funded_amnt_inv</th>\n",
       "      <th>term</th>\n",
       "      <th>int_rate</th>\n",
       "      <th>installment</th>\n",
       "      <th>grade</th>\n",
       "      <th>sub_grade</th>\n",
       "      <th>...</th>\n",
       "      <th>hardship_payoff_balance_amount</th>\n",
       "      <th>hardship_last_payment_amount</th>\n",
       "      <th>disbursement_method</th>\n",
       "      <th>debt_settlement_flag</th>\n",
       "      <th>debt_settlement_flag_date</th>\n",
       "      <th>settlement_status</th>\n",
       "      <th>settlement_date</th>\n",
       "      <th>settlement_amount</th>\n",
       "      <th>settlement_percentage</th>\n",
       "      <th>settlement_term</th>\n",
       "    </tr>\n",
       "  </thead>\n",
       "  <tbody>\n",
       "    <tr>\n",
       "      <th>0</th>\n",
       "      <td>NaN</td>\n",
       "      <td>NaN</td>\n",
       "      <td>2500</td>\n",
       "      <td>2500</td>\n",
       "      <td>2500.0</td>\n",
       "      <td>36 months</td>\n",
       "      <td>13.56</td>\n",
       "      <td>84.92</td>\n",
       "      <td>C</td>\n",
       "      <td>C1</td>\n",
       "      <td>...</td>\n",
       "      <td>NaN</td>\n",
       "      <td>NaN</td>\n",
       "      <td>Cash</td>\n",
       "      <td>N</td>\n",
       "      <td>NaN</td>\n",
       "      <td>NaN</td>\n",
       "      <td>NaN</td>\n",
       "      <td>NaN</td>\n",
       "      <td>NaN</td>\n",
       "      <td>NaN</td>\n",
       "    </tr>\n",
       "    <tr>\n",
       "      <th>1</th>\n",
       "      <td>NaN</td>\n",
       "      <td>NaN</td>\n",
       "      <td>30000</td>\n",
       "      <td>30000</td>\n",
       "      <td>30000.0</td>\n",
       "      <td>60 months</td>\n",
       "      <td>18.94</td>\n",
       "      <td>777.23</td>\n",
       "      <td>D</td>\n",
       "      <td>D2</td>\n",
       "      <td>...</td>\n",
       "      <td>NaN</td>\n",
       "      <td>NaN</td>\n",
       "      <td>Cash</td>\n",
       "      <td>N</td>\n",
       "      <td>NaN</td>\n",
       "      <td>NaN</td>\n",
       "      <td>NaN</td>\n",
       "      <td>NaN</td>\n",
       "      <td>NaN</td>\n",
       "      <td>NaN</td>\n",
       "    </tr>\n",
       "    <tr>\n",
       "      <th>2</th>\n",
       "      <td>NaN</td>\n",
       "      <td>NaN</td>\n",
       "      <td>5000</td>\n",
       "      <td>5000</td>\n",
       "      <td>5000.0</td>\n",
       "      <td>36 months</td>\n",
       "      <td>17.97</td>\n",
       "      <td>180.69</td>\n",
       "      <td>D</td>\n",
       "      <td>D1</td>\n",
       "      <td>...</td>\n",
       "      <td>NaN</td>\n",
       "      <td>NaN</td>\n",
       "      <td>Cash</td>\n",
       "      <td>N</td>\n",
       "      <td>NaN</td>\n",
       "      <td>NaN</td>\n",
       "      <td>NaN</td>\n",
       "      <td>NaN</td>\n",
       "      <td>NaN</td>\n",
       "      <td>NaN</td>\n",
       "    </tr>\n",
       "    <tr>\n",
       "      <th>3</th>\n",
       "      <td>NaN</td>\n",
       "      <td>NaN</td>\n",
       "      <td>4000</td>\n",
       "      <td>4000</td>\n",
       "      <td>4000.0</td>\n",
       "      <td>36 months</td>\n",
       "      <td>18.94</td>\n",
       "      <td>146.51</td>\n",
       "      <td>D</td>\n",
       "      <td>D2</td>\n",
       "      <td>...</td>\n",
       "      <td>NaN</td>\n",
       "      <td>NaN</td>\n",
       "      <td>Cash</td>\n",
       "      <td>N</td>\n",
       "      <td>NaN</td>\n",
       "      <td>NaN</td>\n",
       "      <td>NaN</td>\n",
       "      <td>NaN</td>\n",
       "      <td>NaN</td>\n",
       "      <td>NaN</td>\n",
       "    </tr>\n",
       "    <tr>\n",
       "      <th>4</th>\n",
       "      <td>NaN</td>\n",
       "      <td>NaN</td>\n",
       "      <td>30000</td>\n",
       "      <td>30000</td>\n",
       "      <td>30000.0</td>\n",
       "      <td>60 months</td>\n",
       "      <td>16.14</td>\n",
       "      <td>731.78</td>\n",
       "      <td>C</td>\n",
       "      <td>C4</td>\n",
       "      <td>...</td>\n",
       "      <td>NaN</td>\n",
       "      <td>NaN</td>\n",
       "      <td>Cash</td>\n",
       "      <td>N</td>\n",
       "      <td>NaN</td>\n",
       "      <td>NaN</td>\n",
       "      <td>NaN</td>\n",
       "      <td>NaN</td>\n",
       "      <td>NaN</td>\n",
       "      <td>NaN</td>\n",
       "    </tr>\n",
       "  </tbody>\n",
       "</table>\n",
       "<p>5 rows × 145 columns</p>\n",
       "</div>"
      ],
      "text/plain": [
       "   id  member_id  loan_amnt  funded_amnt  funded_amnt_inv        term  \\\n",
       "0 NaN        NaN       2500         2500           2500.0   36 months   \n",
       "1 NaN        NaN      30000        30000          30000.0   60 months   \n",
       "2 NaN        NaN       5000         5000           5000.0   36 months   \n",
       "3 NaN        NaN       4000         4000           4000.0   36 months   \n",
       "4 NaN        NaN      30000        30000          30000.0   60 months   \n",
       "\n",
       "   int_rate  installment grade sub_grade  ... hardship_payoff_balance_amount  \\\n",
       "0     13.56        84.92     C        C1  ...                            NaN   \n",
       "1     18.94       777.23     D        D2  ...                            NaN   \n",
       "2     17.97       180.69     D        D1  ...                            NaN   \n",
       "3     18.94       146.51     D        D2  ...                            NaN   \n",
       "4     16.14       731.78     C        C4  ...                            NaN   \n",
       "\n",
       "  hardship_last_payment_amount disbursement_method  debt_settlement_flag  \\\n",
       "0                          NaN                Cash                     N   \n",
       "1                          NaN                Cash                     N   \n",
       "2                          NaN                Cash                     N   \n",
       "3                          NaN                Cash                     N   \n",
       "4                          NaN                Cash                     N   \n",
       "\n",
       "  debt_settlement_flag_date settlement_status settlement_date  \\\n",
       "0                       NaN               NaN             NaN   \n",
       "1                       NaN               NaN             NaN   \n",
       "2                       NaN               NaN             NaN   \n",
       "3                       NaN               NaN             NaN   \n",
       "4                       NaN               NaN             NaN   \n",
       "\n",
       "  settlement_amount  settlement_percentage settlement_term  \n",
       "0               NaN                    NaN             NaN  \n",
       "1               NaN                    NaN             NaN  \n",
       "2               NaN                    NaN             NaN  \n",
       "3               NaN                    NaN             NaN  \n",
       "4               NaN                    NaN             NaN  \n",
       "\n",
       "[5 rows x 145 columns]"
      ]
     },
     "execution_count": 3,
     "metadata": {},
     "output_type": "execute_result"
    }
   ],
   "source": [
    "loan_data.head()"
   ]
  },
  {
   "cell_type": "code",
   "execution_count": 4,
   "metadata": {
    "scrolled": true
   },
   "outputs": [
    {
     "data": {
      "text/plain": [
       "(2260668, 145)"
      ]
     },
     "execution_count": 4,
     "metadata": {},
     "output_type": "execute_result"
    }
   ],
   "source": [
    "loan_data.shape"
   ]
  },
  {
   "cell_type": "markdown",
   "metadata": {},
   "source": [
    "## Simple cleaning"
   ]
  },
  {
   "cell_type": "code",
   "execution_count": 5,
   "metadata": {},
   "outputs": [],
   "source": [
    "loan_data_clean = loan_data.loc[loan_data['term'] == ' 60 months']"
   ]
  },
  {
   "cell_type": "code",
   "execution_count": 6,
   "metadata": {},
   "outputs": [],
   "source": [
    "loan_data_clean = loan_data_clean.loc[ ~loan_data_clean['loan_status'].isin(['Current', 'In Grace Period']) ]"
   ]
  },
  {
   "cell_type": "code",
   "execution_count": 7,
   "metadata": {},
   "outputs": [],
   "source": [
    "loan_data_clean = loan_data_clean.loc[(loan_data_clean['annual_inc'] >= 1000.0) & (loan_data_clean['annual_inc'] <= 1000000.0)]"
   ]
  },
  {
   "cell_type": "code",
   "execution_count": 8,
   "metadata": {},
   "outputs": [],
   "source": [
    "loan_data_clean = loan_data_clean.loc[loan_data_clean['home_ownership'] != 'ANY']"
   ]
  },
  {
   "cell_type": "code",
   "execution_count": 9,
   "metadata": {},
   "outputs": [],
   "source": [
    "loan_data_clean = loan_data_clean[['loan_amnt', 'int_rate', 'installment', 'grade', 'emp_length', 'home_ownership',\n",
    "                                     'annual_inc', 'purpose', 'inq_last_12m', 'delinq_2yrs', 'loan_status']]"
   ]
  },
  {
   "cell_type": "code",
   "execution_count": 10,
   "metadata": {},
   "outputs": [],
   "source": [
    "loan_data_clean = loan_data_clean.dropna()\n",
    "loan_data_clean = loan_data_clean.reset_index(drop = True)"
   ]
  },
  {
   "cell_type": "markdown",
   "metadata": {},
   "source": [
    "## Prepare date for NN"
   ]
  },
  {
   "cell_type": "code",
   "execution_count": 11,
   "metadata": {},
   "outputs": [],
   "source": [
    "from sklearn import preprocessing\n",
    "from sklearn.preprocessing import MinMaxScaler"
   ]
  },
  {
   "cell_type": "markdown",
   "metadata": {},
   "source": [
    "### Labels encoding"
   ]
  },
  {
   "cell_type": "code",
   "execution_count": 12,
   "metadata": {},
   "outputs": [],
   "source": [
    "loan_data_clean_prepared = loan_data_clean.copy()"
   ]
  },
  {
   "cell_type": "code",
   "execution_count": 13,
   "metadata": {},
   "outputs": [],
   "source": [
    "grade_encoder = preprocessing.LabelEncoder()"
   ]
  },
  {
   "cell_type": "code",
   "execution_count": 14,
   "metadata": {},
   "outputs": [
    {
     "data": {
      "text/plain": [
       "LabelEncoder()"
      ]
     },
     "execution_count": 14,
     "metadata": {},
     "output_type": "execute_result"
    }
   ],
   "source": [
    "grade_encoder.fit(loan_data_clean['grade'].unique())"
   ]
  },
  {
   "cell_type": "code",
   "execution_count": 15,
   "metadata": {},
   "outputs": [],
   "source": [
    "loan_data_clean_prepared['grade'] = grade_encoder.transform(loan_data_clean['grade'])"
   ]
  },
  {
   "cell_type": "code",
   "execution_count": 16,
   "metadata": {},
   "outputs": [],
   "source": [
    "ownership_encoder = preprocessing.LabelEncoder()"
   ]
  },
  {
   "cell_type": "code",
   "execution_count": 17,
   "metadata": {},
   "outputs": [
    {
     "data": {
      "text/plain": [
       "LabelEncoder()"
      ]
     },
     "execution_count": 17,
     "metadata": {},
     "output_type": "execute_result"
    }
   ],
   "source": [
    "ownership_encoder.fit(loan_data_clean['home_ownership'].unique())"
   ]
  },
  {
   "cell_type": "code",
   "execution_count": 18,
   "metadata": {},
   "outputs": [],
   "source": [
    "loan_data_clean_prepared['home_ownership'] = ownership_encoder.transform(loan_data_clean['home_ownership'])"
   ]
  },
  {
   "cell_type": "code",
   "execution_count": 19,
   "metadata": {},
   "outputs": [],
   "source": [
    "purpose_encoder = preprocessing.LabelEncoder()"
   ]
  },
  {
   "cell_type": "code",
   "execution_count": 20,
   "metadata": {},
   "outputs": [
    {
     "data": {
      "text/plain": [
       "LabelEncoder()"
      ]
     },
     "execution_count": 20,
     "metadata": {},
     "output_type": "execute_result"
    }
   ],
   "source": [
    "purpose_encoder.fit(loan_data_clean['purpose'].unique())"
   ]
  },
  {
   "cell_type": "code",
   "execution_count": 21,
   "metadata": {},
   "outputs": [],
   "source": [
    "loan_data_clean_prepared['purpose'] = purpose_encoder.transform(loan_data_clean['purpose'])"
   ]
  },
  {
   "cell_type": "code",
   "execution_count": 22,
   "metadata": {},
   "outputs": [],
   "source": [
    "loan_data_clean_prepared['emp_length'] = [0.0 if emp == '< 1 year' else \n",
    "                                              10.0 if emp == '10+ years' else float(emp.split(' ')[0]) \n",
    "                                                  for emp in loan_data_clean['emp_length']]"
   ]
  },
  {
   "cell_type": "code",
   "execution_count": 23,
   "metadata": {},
   "outputs": [],
   "source": [
    "loan_data_clean_prepared['loan_status'] = [0 if (stat == 'Default' or stat == 'Charged Off') else 1\n",
    "                                               for stat in loan_data_clean_prepared['loan_status']]"
   ]
  },
  {
   "cell_type": "code",
   "execution_count": 24,
   "metadata": {},
   "outputs": [
    {
     "data": {
      "text/html": [
       "<div>\n",
       "<style scoped>\n",
       "    .dataframe tbody tr th:only-of-type {\n",
       "        vertical-align: middle;\n",
       "    }\n",
       "\n",
       "    .dataframe tbody tr th {\n",
       "        vertical-align: top;\n",
       "    }\n",
       "\n",
       "    .dataframe thead th {\n",
       "        text-align: right;\n",
       "    }\n",
       "</style>\n",
       "<table border=\"1\" class=\"dataframe\">\n",
       "  <thead>\n",
       "    <tr style=\"text-align: right;\">\n",
       "      <th></th>\n",
       "      <th>loan_amnt</th>\n",
       "      <th>int_rate</th>\n",
       "      <th>installment</th>\n",
       "      <th>grade</th>\n",
       "      <th>emp_length</th>\n",
       "      <th>home_ownership</th>\n",
       "      <th>annual_inc</th>\n",
       "      <th>purpose</th>\n",
       "      <th>inq_last_12m</th>\n",
       "      <th>delinq_2yrs</th>\n",
       "      <th>loan_status</th>\n",
       "    </tr>\n",
       "  </thead>\n",
       "  <tbody>\n",
       "    <tr>\n",
       "      <th>0</th>\n",
       "      <td>40000</td>\n",
       "      <td>16.14</td>\n",
       "      <td>975.71</td>\n",
       "      <td>2</td>\n",
       "      <td>0.0</td>\n",
       "      <td>0</td>\n",
       "      <td>45000.0</td>\n",
       "      <td>1</td>\n",
       "      <td>4.0</td>\n",
       "      <td>0.0</td>\n",
       "      <td>1</td>\n",
       "    </tr>\n",
       "    <tr>\n",
       "      <th>1</th>\n",
       "      <td>20000</td>\n",
       "      <td>17.97</td>\n",
       "      <td>507.55</td>\n",
       "      <td>3</td>\n",
       "      <td>4.0</td>\n",
       "      <td>2</td>\n",
       "      <td>57000.0</td>\n",
       "      <td>2</td>\n",
       "      <td>0.0</td>\n",
       "      <td>0.0</td>\n",
       "      <td>1</td>\n",
       "    </tr>\n",
       "    <tr>\n",
       "      <th>2</th>\n",
       "      <td>10450</td>\n",
       "      <td>12.98</td>\n",
       "      <td>237.67</td>\n",
       "      <td>1</td>\n",
       "      <td>10.0</td>\n",
       "      <td>0</td>\n",
       "      <td>58000.0</td>\n",
       "      <td>1</td>\n",
       "      <td>5.0</td>\n",
       "      <td>0.0</td>\n",
       "      <td>1</td>\n",
       "    </tr>\n",
       "    <tr>\n",
       "      <th>3</th>\n",
       "      <td>20000</td>\n",
       "      <td>26.31</td>\n",
       "      <td>602.49</td>\n",
       "      <td>4</td>\n",
       "      <td>4.0</td>\n",
       "      <td>0</td>\n",
       "      <td>58000.0</td>\n",
       "      <td>1</td>\n",
       "      <td>2.0</td>\n",
       "      <td>0.0</td>\n",
       "      <td>1</td>\n",
       "    </tr>\n",
       "    <tr>\n",
       "      <th>4</th>\n",
       "      <td>10000</td>\n",
       "      <td>12.98</td>\n",
       "      <td>227.43</td>\n",
       "      <td>1</td>\n",
       "      <td>1.0</td>\n",
       "      <td>0</td>\n",
       "      <td>60000.0</td>\n",
       "      <td>0</td>\n",
       "      <td>1.0</td>\n",
       "      <td>1.0</td>\n",
       "      <td>1</td>\n",
       "    </tr>\n",
       "  </tbody>\n",
       "</table>\n",
       "</div>"
      ],
      "text/plain": [
       "   loan_amnt  int_rate  installment  grade  emp_length  home_ownership  \\\n",
       "0      40000     16.14       975.71      2         0.0               0   \n",
       "1      20000     17.97       507.55      3         4.0               2   \n",
       "2      10450     12.98       237.67      1        10.0               0   \n",
       "3      20000     26.31       602.49      4         4.0               0   \n",
       "4      10000     12.98       227.43      1         1.0               0   \n",
       "\n",
       "   annual_inc  purpose  inq_last_12m  delinq_2yrs  loan_status  \n",
       "0     45000.0        1           4.0          0.0            1  \n",
       "1     57000.0        2           0.0          0.0            1  \n",
       "2     58000.0        1           5.0          0.0            1  \n",
       "3     58000.0        1           2.0          0.0            1  \n",
       "4     60000.0        0           1.0          1.0            1  "
      ]
     },
     "execution_count": 24,
     "metadata": {},
     "output_type": "execute_result"
    }
   ],
   "source": [
    "loan_data_clean_prepared.head()"
   ]
  },
  {
   "cell_type": "markdown",
   "metadata": {},
   "source": [
    "### Normalization"
   ]
  },
  {
   "cell_type": "code",
   "execution_count": 25,
   "metadata": {},
   "outputs": [],
   "source": [
    "loan_data_clean_prepared_X = loan_data_clean_prepared.iloc[:, :-1]"
   ]
  },
  {
   "cell_type": "code",
   "execution_count": 26,
   "metadata": {},
   "outputs": [],
   "source": [
    "loan_data_clean_prepared_Y = loan_data_clean_prepared.iloc[:, -1]"
   ]
  },
  {
   "cell_type": "code",
   "execution_count": 27,
   "metadata": {},
   "outputs": [],
   "source": [
    "scaler = MinMaxScaler()"
   ]
  },
  {
   "cell_type": "code",
   "execution_count": 28,
   "metadata": {},
   "outputs": [
    {
     "data": {
      "text/plain": [
       "MinMaxScaler(copy=True, feature_range=(0, 1))"
      ]
     },
     "execution_count": 28,
     "metadata": {},
     "output_type": "execute_result"
    }
   ],
   "source": [
    "scaler.fit(loan_data_clean_prepared_X)"
   ]
  },
  {
   "cell_type": "code",
   "execution_count": 29,
   "metadata": {},
   "outputs": [],
   "source": [
    "loan_data_clean_prepared_X = scaler.transform(loan_data_clean_prepared_X)"
   ]
  },
  {
   "cell_type": "code",
   "execution_count": 30,
   "metadata": {},
   "outputs": [],
   "source": [
    "loan_data_clean_prepared_Y = loan_data_clean_prepared_Y.values"
   ]
  },
  {
   "cell_type": "markdown",
   "metadata": {},
   "source": [
    "## NN"
   ]
  },
  {
   "cell_type": "code",
   "execution_count": 40,
   "metadata": {},
   "outputs": [],
   "source": [
    "from keras import Sequential\n",
    "from keras.layers import Dense, Dropout\n",
    "from keras.models import model_from_json\n",
    "from keras import backend"
   ]
  },
  {
   "cell_type": "code",
   "execution_count": 53,
   "metadata": {},
   "outputs": [],
   "source": [
    "backend.clear_session()"
   ]
  },
  {
   "cell_type": "code",
   "execution_count": 54,
   "metadata": {
    "scrolled": true
   },
   "outputs": [
    {
     "name": "stdout",
     "output_type": "stream",
     "text": [
      "Model: \"sequential_1\"\n",
      "_________________________________________________________________\n",
      "Layer (type)                 Output Shape              Param #   \n",
      "=================================================================\n",
      "dense_1 (Dense)              (None, 10)                110       \n",
      "_________________________________________________________________\n",
      "dense_2 (Dense)              (None, 50)                550       \n",
      "_________________________________________________________________\n",
      "dense_3 (Dense)              (None, 100)               5100      \n",
      "_________________________________________________________________\n",
      "dropout_1 (Dropout)          (None, 100)               0         \n",
      "_________________________________________________________________\n",
      "dense_4 (Dense)              (None, 20)                2020      \n",
      "_________________________________________________________________\n",
      "dense_5 (Dense)              (None, 1)                 21        \n",
      "=================================================================\n",
      "Total params: 7,801\n",
      "Trainable params: 7,801\n",
      "Non-trainable params: 0\n",
      "_________________________________________________________________\n"
     ]
    }
   ],
   "source": [
    "model = Sequential()\n",
    "#First Layer\n",
    "model.add(Dense(10, activation='relu', kernel_initializer='random_normal', input_dim=10))\n",
    "#First Hidden Layer\n",
    "model.add(Dense(50, activation='tanh', kernel_initializer='random_normal'))\n",
    "#Second Hidden Layer\n",
    "model.add(Dense(100, activation='tanh', kernel_initializer='random_normal'))\n",
    "model.add(Dropout(0.2))\n",
    "#Third Hidden Layer\n",
    "model.add(Dense(20, activation='tanh', kernel_initializer='random_normal'))\n",
    "#Output Layer\n",
    "model.add(Dense(1, activation='sigmoid', kernel_initializer='random_normal'))\n",
    "model.summary()"
   ]
  },
  {
   "cell_type": "code",
   "execution_count": 55,
   "metadata": {},
   "outputs": [],
   "source": [
    "#Compile the neural network\n",
    "model.compile(optimizer ='adam',loss='binary_crossentropy', metrics =['accuracy'])"
   ]
  },
  {
   "cell_type": "code",
   "execution_count": 34,
   "metadata": {},
   "outputs": [],
   "source": [
    "from sklearn.model_selection import train_test_split"
   ]
  },
  {
   "cell_type": "code",
   "execution_count": 56,
   "metadata": {},
   "outputs": [],
   "source": [
    "X_train, X_test, y_train, y_test = train_test_split(loan_data_clean_prepared_X, \n",
    "                                                    loan_data_clean_prepared_Y, \n",
    "                                                    test_size=0.33, random_state=15)"
   ]
  },
  {
   "cell_type": "code",
   "execution_count": null,
   "metadata": {},
   "outputs": [],
   "source": []
  },
  {
   "cell_type": "code",
   "execution_count": 57,
   "metadata": {},
   "outputs": [
    {
     "name": "stdout",
     "output_type": "stream",
     "text": [
      "Epoch 1/100\n",
      "78170/78170 [==============================] - 2s 31us/step - loss: 0.5969 - accuracy: 0.6947\n",
      "Epoch 2/100\n",
      "78170/78170 [==============================] - 2s 28us/step - loss: 0.5874 - accuracy: 0.6971\n",
      "Epoch 3/100\n",
      "78170/78170 [==============================] - 2s 29us/step - loss: 0.5866 - accuracy: 0.6985\n",
      "Epoch 4/100\n",
      "78170/78170 [==============================] - 2s 29us/step - loss: 0.5862 - accuracy: 0.6989\n",
      "Epoch 5/100\n",
      "78170/78170 [==============================] - 2s 29us/step - loss: 0.5861 - accuracy: 0.7002\n",
      "Epoch 6/100\n",
      "78170/78170 [==============================] - 2s 29us/step - loss: 0.5855 - accuracy: 0.7003\n",
      "Epoch 7/100\n",
      "78170/78170 [==============================] - 2s 28us/step - loss: 0.5854 - accuracy: 0.6996\n",
      "Epoch 8/100\n",
      "78170/78170 [==============================] - 2s 29us/step - loss: 0.5858 - accuracy: 0.6996\n",
      "Epoch 9/100\n",
      "78170/78170 [==============================] - 2s 29us/step - loss: 0.5854 - accuracy: 0.6998\n",
      "Epoch 10/100\n",
      "78170/78170 [==============================] - 2s 30us/step - loss: 0.5854 - accuracy: 0.7000\n",
      "Epoch 11/100\n",
      "78170/78170 [==============================] - 2s 29us/step - loss: 0.5851 - accuracy: 0.7001\n",
      "Epoch 12/100\n",
      "78170/78170 [==============================] - 2s 29us/step - loss: 0.5850 - accuracy: 0.7000\n",
      "Epoch 13/100\n",
      "78170/78170 [==============================] - 2s 29us/step - loss: 0.5850 - accuracy: 0.7006\n",
      "Epoch 14/100\n",
      "78170/78170 [==============================] - 2s 29us/step - loss: 0.5848 - accuracy: 0.7002\n",
      "Epoch 15/100\n",
      "78170/78170 [==============================] - 2s 29us/step - loss: 0.5847 - accuracy: 0.7015\n",
      "Epoch 16/100\n",
      "78170/78170 [==============================] - 2s 29us/step - loss: 0.5844 - accuracy: 0.7012\n",
      "Epoch 17/100\n",
      "78170/78170 [==============================] - 2s 30us/step - loss: 0.5847 - accuracy: 0.7002\n",
      "Epoch 18/100\n",
      "78170/78170 [==============================] - 2s 29us/step - loss: 0.5848 - accuracy: 0.6999\n",
      "Epoch 19/100\n",
      "78170/78170 [==============================] - 2s 29us/step - loss: 0.5845 - accuracy: 0.7006\n",
      "Epoch 20/100\n",
      "78170/78170 [==============================] - 2s 29us/step - loss: 0.5846 - accuracy: 0.7003\n",
      "Epoch 21/100\n",
      "78170/78170 [==============================] - 2s 29us/step - loss: 0.5845 - accuracy: 0.7009\n",
      "Epoch 22/100\n",
      "78170/78170 [==============================] - 2s 29us/step - loss: 0.5845 - accuracy: 0.7007\n",
      "Epoch 23/100\n",
      "78170/78170 [==============================] - 2s 29us/step - loss: 0.5844 - accuracy: 0.6999\n",
      "Epoch 24/100\n",
      "78170/78170 [==============================] - 2s 30us/step - loss: 0.5844 - accuracy: 0.7003\n",
      "Epoch 25/100\n",
      "78170/78170 [==============================] - 2s 29us/step - loss: 0.5844 - accuracy: 0.7011\n",
      "Epoch 26/100\n",
      "78170/78170 [==============================] - 2s 29us/step - loss: 0.5843 - accuracy: 0.7008\n",
      "Epoch 27/100\n",
      "78170/78170 [==============================] - 2s 29us/step - loss: 0.5844 - accuracy: 0.7004\n",
      "Epoch 28/100\n",
      "78170/78170 [==============================] - 2s 29us/step - loss: 0.5839 - accuracy: 0.7017\n",
      "Epoch 29/100\n",
      "78170/78170 [==============================] - 2s 29us/step - loss: 0.5842 - accuracy: 0.7007\n",
      "Epoch 30/100\n",
      "78170/78170 [==============================] - 2s 29us/step - loss: 0.5842 - accuracy: 0.7008\n",
      "Epoch 31/100\n",
      "78170/78170 [==============================] - 2s 30us/step - loss: 0.5842 - accuracy: 0.7012\n",
      "Epoch 32/100\n",
      "78170/78170 [==============================] - 2s 29us/step - loss: 0.5841 - accuracy: 0.7014\n",
      "Epoch 33/100\n",
      "78170/78170 [==============================] - 2s 29us/step - loss: 0.5840 - accuracy: 0.7006\n",
      "Epoch 34/100\n",
      "78170/78170 [==============================] - 2s 29us/step - loss: 0.5841 - accuracy: 0.7012\n",
      "Epoch 35/100\n",
      "78170/78170 [==============================] - 2s 29us/step - loss: 0.5841 - accuracy: 0.7009\n",
      "Epoch 36/100\n",
      "78170/78170 [==============================] - 2s 29us/step - loss: 0.5838 - accuracy: 0.7014\n",
      "Epoch 37/100\n",
      "78170/78170 [==============================] - 2s 29us/step - loss: 0.5841 - accuracy: 0.7012\n",
      "Epoch 38/100\n",
      "78170/78170 [==============================] - 2s 30us/step - loss: 0.5841 - accuracy: 0.7004\n",
      "Epoch 39/100\n",
      "78170/78170 [==============================] - 2s 29us/step - loss: 0.5840 - accuracy: 0.7005\n",
      "Epoch 40/100\n",
      "78170/78170 [==============================] - 2s 30us/step - loss: 0.5840 - accuracy: 0.7013\n",
      "Epoch 41/100\n",
      "78170/78170 [==============================] - 2s 29us/step - loss: 0.5839 - accuracy: 0.7005\n",
      "Epoch 42/100\n",
      "78170/78170 [==============================] - 2s 29us/step - loss: 0.5839 - accuracy: 0.7009\n",
      "Epoch 43/100\n",
      "78170/78170 [==============================] - 2s 29us/step - loss: 0.5838 - accuracy: 0.7007\n",
      "Epoch 44/100\n",
      "78170/78170 [==============================] - 2s 29us/step - loss: 0.5838 - accuracy: 0.7011\n",
      "Epoch 45/100\n",
      "78170/78170 [==============================] - 2s 30us/step - loss: 0.5838 - accuracy: 0.7007\n",
      "Epoch 46/100\n",
      "78170/78170 [==============================] - 2s 29us/step - loss: 0.5840 - accuracy: 0.6996\n",
      "Epoch 47/100\n",
      "78170/78170 [==============================] - 2s 29us/step - loss: 0.5839 - accuracy: 0.7003\n",
      "Epoch 48/100\n",
      "78170/78170 [==============================] - 2s 29us/step - loss: 0.5838 - accuracy: 0.7008\n",
      "Epoch 49/100\n",
      "78170/78170 [==============================] - 2s 29us/step - loss: 0.5839 - accuracy: 0.7009\n",
      "Epoch 50/100\n",
      "78170/78170 [==============================] - 2s 29us/step - loss: 0.5841 - accuracy: 0.7006\n",
      "Epoch 51/100\n",
      "78170/78170 [==============================] - 2s 29us/step - loss: 0.5836 - accuracy: 0.7014\n",
      "Epoch 52/100\n",
      "78170/78170 [==============================] - 2s 30us/step - loss: 0.5836 - accuracy: 0.7013\n",
      "Epoch 53/100\n",
      "78170/78170 [==============================] - 2s 29us/step - loss: 0.5838 - accuracy: 0.7007\n",
      "Epoch 54/100\n",
      "78170/78170 [==============================] - 2s 29us/step - loss: 0.5838 - accuracy: 0.7005\n",
      "Epoch 55/100\n",
      "78170/78170 [==============================] - 2s 29us/step - loss: 0.5839 - accuracy: 0.7008\n",
      "Epoch 56/100\n",
      "78170/78170 [==============================] - 2s 29us/step - loss: 0.5838 - accuracy: 0.7012\n",
      "Epoch 57/100\n",
      "78170/78170 [==============================] - 2s 29us/step - loss: 0.5838 - accuracy: 0.7008\n",
      "Epoch 58/100\n",
      "78170/78170 [==============================] - 2s 31us/step - loss: 0.5838 - accuracy: 0.7004\n",
      "Epoch 59/100\n",
      "78170/78170 [==============================] - 2s 31us/step - loss: 0.5836 - accuracy: 0.7013\n",
      "Epoch 60/100\n",
      "78170/78170 [==============================] - 2s 29us/step - loss: 0.5838 - accuracy: 0.7010\n",
      "Epoch 61/100\n",
      "78170/78170 [==============================] - 2s 29us/step - loss: 0.5837 - accuracy: 0.7013\n",
      "Epoch 62/100\n",
      "78170/78170 [==============================] - 2s 29us/step - loss: 0.5838 - accuracy: 0.7002\n",
      "Epoch 63/100\n",
      "78170/78170 [==============================] - 2s 29us/step - loss: 0.5836 - accuracy: 0.6997\n",
      "Epoch 64/100\n",
      "78170/78170 [==============================] - 2s 29us/step - loss: 0.5834 - accuracy: 0.7009\n",
      "Epoch 65/100\n",
      "78170/78170 [==============================] - 2s 29us/step - loss: 0.5837 - accuracy: 0.7008\n",
      "Epoch 66/100\n",
      "78170/78170 [==============================] - 2s 31us/step - loss: 0.5834 - accuracy: 0.7015\n",
      "Epoch 67/100\n",
      "78170/78170 [==============================] - 2s 29us/step - loss: 0.5837 - accuracy: 0.7005\n",
      "Epoch 68/100\n",
      "78170/78170 [==============================] - 2s 30us/step - loss: 0.5834 - accuracy: 0.7009\n",
      "Epoch 69/100\n",
      "78170/78170 [==============================] - 2s 30us/step - loss: 0.5834 - accuracy: 0.7007\n",
      "Epoch 70/100\n",
      "78170/78170 [==============================] - 2s 29us/step - loss: 0.5836 - accuracy: 0.7016\n",
      "Epoch 71/100\n",
      "78170/78170 [==============================] - 2s 29us/step - loss: 0.5837 - accuracy: 0.7007\n",
      "Epoch 72/100\n",
      "78170/78170 [==============================] - 2s 30us/step - loss: 0.5835 - accuracy: 0.7014\n",
      "Epoch 73/100\n",
      "78170/78170 [==============================] - 2s 31us/step - loss: 0.5835 - accuracy: 0.7010\n",
      "Epoch 74/100\n",
      "78170/78170 [==============================] - 2s 30us/step - loss: 0.5836 - accuracy: 0.7003\n",
      "Epoch 75/100\n",
      "78170/78170 [==============================] - 2s 30us/step - loss: 0.5833 - accuracy: 0.7012\n",
      "Epoch 76/100\n",
      "78170/78170 [==============================] - 2s 30us/step - loss: 0.5835 - accuracy: 0.7014\n",
      "Epoch 77/100\n",
      "78170/78170 [==============================] - 2s 29us/step - loss: 0.5836 - accuracy: 0.7015\n",
      "Epoch 78/100\n",
      "78170/78170 [==============================] - 2s 29us/step - loss: 0.5834 - accuracy: 0.7015\n",
      "Epoch 79/100\n",
      "78170/78170 [==============================] - 2s 29us/step - loss: 0.5835 - accuracy: 0.7012\n",
      "Epoch 80/100\n",
      "78170/78170 [==============================] - 2s 30us/step - loss: 0.5836 - accuracy: 0.7007\n",
      "Epoch 81/100\n",
      "78170/78170 [==============================] - 2s 29us/step - loss: 0.5835 - accuracy: 0.7010\n",
      "Epoch 82/100\n",
      "78170/78170 [==============================] - 2s 30us/step - loss: 0.5834 - accuracy: 0.7012\n",
      "Epoch 83/100\n",
      "78170/78170 [==============================] - 2s 29us/step - loss: 0.5834 - accuracy: 0.7012\n",
      "Epoch 84/100\n",
      "78170/78170 [==============================] - 2s 29us/step - loss: 0.5836 - accuracy: 0.7008\n",
      "Epoch 85/100\n",
      "78170/78170 [==============================] - 2s 31us/step - loss: 0.5833 - accuracy: 0.7008\n",
      "Epoch 86/100\n",
      "78170/78170 [==============================] - 2s 30us/step - loss: 0.5835 - accuracy: 0.7007\n",
      "Epoch 87/100\n",
      "78170/78170 [==============================] - 2s 29us/step - loss: 0.5837 - accuracy: 0.7008\n",
      "Epoch 88/100\n",
      "78170/78170 [==============================] - 2s 29us/step - loss: 0.5834 - accuracy: 0.7014\n",
      "Epoch 89/100\n",
      "78170/78170 [==============================] - 2s 29us/step - loss: 0.5833 - accuracy: 0.7009\n",
      "Epoch 90/100\n",
      "78170/78170 [==============================] - 2s 29us/step - loss: 0.5835 - accuracy: 0.7013\n",
      "Epoch 91/100\n",
      "78170/78170 [==============================] - 2s 29us/step - loss: 0.5833 - accuracy: 0.7009\n",
      "Epoch 92/100\n",
      "78170/78170 [==============================] - 2s 29us/step - loss: 0.5835 - accuracy: 0.7013\n",
      "Epoch 93/100\n",
      "78170/78170 [==============================] - 2s 31us/step - loss: 0.5834 - accuracy: 0.7009\n",
      "Epoch 94/100\n",
      "78170/78170 [==============================] - 2s 30us/step - loss: 0.5833 - accuracy: 0.7007\n",
      "Epoch 95/100\n",
      "78170/78170 [==============================] - 2s 30us/step - loss: 0.5834 - accuracy: 0.7002\n",
      "Epoch 96/100\n",
      "78170/78170 [==============================] - 2s 29us/step - loss: 0.5835 - accuracy: 0.7005\n",
      "Epoch 97/100\n",
      "78170/78170 [==============================] - 2s 29us/step - loss: 0.5836 - accuracy: 0.7005\n",
      "Epoch 98/100\n",
      "78170/78170 [==============================] - 2s 30us/step - loss: 0.5833 - accuracy: 0.7014\n",
      "Epoch 99/100\n",
      "78170/78170 [==============================] - 2s 29us/step - loss: 0.5835 - accuracy: 0.7007\n",
      "Epoch 100/100\n",
      "78170/78170 [==============================] - 2s 30us/step - loss: 0.5834 - accuracy: 0.7009\n"
     ]
    },
    {
     "data": {
      "text/plain": [
       "<keras.callbacks.callbacks.History at 0x232a1c9cd30>"
      ]
     },
     "execution_count": 57,
     "metadata": {},
     "output_type": "execute_result"
    }
   ],
   "source": [
    "#Train the network\n",
    "model.fit(X_train, y_train, batch_size=100, epochs=100)\n"
   ]
  },
  {
   "cell_type": "code",
   "execution_count": 58,
   "metadata": {},
   "outputs": [
    {
     "name": "stdout",
     "output_type": "stream",
     "text": [
      "38503/38503 [==============================] - 1s 38us/step\n",
      "[0.5902180095166382, 0.695036768913269]\n"
     ]
    }
   ],
   "source": [
    "#Evaluate test data\n",
    "score = model.evaluate(X_test, y_test)\n",
    "print(score)\n"
   ]
  },
  {
   "cell_type": "markdown",
   "metadata": {},
   "source": [
    "### Save modelm scaler and encoders"
   ]
  },
  {
   "cell_type": "code",
   "execution_count": 60,
   "metadata": {},
   "outputs": [],
   "source": [
    "#Serialize model to JSON\n",
    "model_json = model.to_json()\n",
    "with open(\"model.json\", \"w\") as json_file:\n",
    "    json_file.write(model_json)\n",
    "#Serialize weights to HDF5\n",
    "model.save_weights(\"model.h5\")"
   ]
  },
  {
   "cell_type": "code",
   "execution_count": 59,
   "metadata": {},
   "outputs": [],
   "source": [
    "from pickle import dump"
   ]
  },
  {
   "cell_type": "code",
   "execution_count": 62,
   "metadata": {},
   "outputs": [],
   "source": [
    "dump(scaler, open('scaler.pkl', 'wb'))\n",
    "dump(grade_encoder, open('grade_encoder.pkl', 'wb'))\n",
    "dump(ownership_encoder, open('ownership_encoder.pkl', 'wb'))\n",
    "dump(purpose_encoder, open('purpose_encoder.pkl', 'wb'))"
   ]
  },
  {
   "cell_type": "code",
   "execution_count": null,
   "metadata": {},
   "outputs": [],
   "source": []
  }
 ],
 "metadata": {
  "kernelspec": {
   "display_name": "Python 3",
   "language": "python",
   "name": "python3"
  },
  "language_info": {
   "codemirror_mode": {
    "name": "ipython",
    "version": 3
   },
   "file_extension": ".py",
   "mimetype": "text/x-python",
   "name": "python",
   "nbconvert_exporter": "python",
   "pygments_lexer": "ipython3",
   "version": "3.6.10"
  }
 },
 "nbformat": 4,
 "nbformat_minor": 4
}
